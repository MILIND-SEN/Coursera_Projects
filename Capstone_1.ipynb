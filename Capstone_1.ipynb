{
  "nbformat": 4,
  "nbformat_minor": 0,
  "metadata": {
    "colab": {
      "name": "Capstone 1.ipynb",
      "provenance": [],
      "collapsed_sections": [],
      "authorship_tag": "ABX9TyM2qq77h3VQdgJML0qMf15u",
      "include_colab_link": true
    },
    "kernelspec": {
      "name": "python3",
      "display_name": "Python 3"
    },
    "language_info": {
      "name": "python"
    }
  },
  "cells": [
    {
      "cell_type": "markdown",
      "metadata": {
        "id": "view-in-github",
        "colab_type": "text"
      },
      "source": [
        "<a href=\"https://colab.research.google.com/github/MILIND-SEN/Coursera_Projects/blob/main/Capstone_1.ipynb\" target=\"_parent\"><img src=\"https://colab.research.google.com/assets/colab-badge.svg\" alt=\"Open In Colab\"/></a>"
      ]
    },
    {
      "cell_type": "code",
      "metadata": {
        "colab": {
          "base_uri": "https://localhost:8080/"
        },
        "id": "7Ju1Fn4FMKCG",
        "outputId": "bfd239e5-6903-448e-e64e-556db52373a8"
      },
      "source": [
        "#Install necessary libraries\n",
        "\n",
        "import numpy as np\n",
        "import pandas as pd\n",
        "import requests\n",
        "import folium\n",
        "import matplotlib.cm as cm\n",
        "import matplotlib.colors as colors\n",
        "import json\n",
        "from sklearn.cluster import KMeans\n",
        "from geopy.geocoders import Nominatim\n",
        "from pandas.io.json import json_normalize\n",
        "\n",
        "print('Libraries imported.')"
      ],
      "execution_count": 8,
      "outputs": [
        {
          "output_type": "stream",
          "text": [
            "Libraries imported.\n"
          ],
          "name": "stdout"
        }
      ]
    },
    {
      "cell_type": "code",
      "metadata": {
        "colab": {
          "base_uri": "https://localhost:8080/",
          "height": 204
        },
        "id": "rvFOqvuEMN3W",
        "outputId": "1102011e-2e44-410f-9bb3-e96ed5a3e05a"
      },
      "source": [
        "toronto_geo_data = pd.read_csv('https://raw.githubusercontent.com/RamanujaSVL/Coursera_Capstone/master/toronto_geo_data.csv', index_col=0)\n",
        "\n",
        "df=toronto_geo_data[[\"Postcode\",\"Borough\",\"Neighbourhood\"]]\n",
        "df.head()\n",
        "#toronto_geo_data.head()\n"
      ],
      "execution_count": 18,
      "outputs": [
        {
          "output_type": "execute_result",
          "data": {
            "text/html": [
              "<div>\n",
              "<style scoped>\n",
              "    .dataframe tbody tr th:only-of-type {\n",
              "        vertical-align: middle;\n",
              "    }\n",
              "\n",
              "    .dataframe tbody tr th {\n",
              "        vertical-align: top;\n",
              "    }\n",
              "\n",
              "    .dataframe thead th {\n",
              "        text-align: right;\n",
              "    }\n",
              "</style>\n",
              "<table border=\"1\" class=\"dataframe\">\n",
              "  <thead>\n",
              "    <tr style=\"text-align: right;\">\n",
              "      <th></th>\n",
              "      <th>Postcode</th>\n",
              "      <th>Borough</th>\n",
              "      <th>Neighbourhood</th>\n",
              "    </tr>\n",
              "  </thead>\n",
              "  <tbody>\n",
              "    <tr>\n",
              "      <th>0</th>\n",
              "      <td>M1B</td>\n",
              "      <td>Scarborough</td>\n",
              "      <td>Rouge,Malvern</td>\n",
              "    </tr>\n",
              "    <tr>\n",
              "      <th>1</th>\n",
              "      <td>M1C</td>\n",
              "      <td>Scarborough</td>\n",
              "      <td>Highland Creek,Rouge Hill,Port Union</td>\n",
              "    </tr>\n",
              "    <tr>\n",
              "      <th>2</th>\n",
              "      <td>M1E</td>\n",
              "      <td>Scarborough</td>\n",
              "      <td>Guildwood,Morningside,West Hill</td>\n",
              "    </tr>\n",
              "    <tr>\n",
              "      <th>3</th>\n",
              "      <td>M1G</td>\n",
              "      <td>Scarborough</td>\n",
              "      <td>Woburn</td>\n",
              "    </tr>\n",
              "    <tr>\n",
              "      <th>4</th>\n",
              "      <td>M1H</td>\n",
              "      <td>Scarborough</td>\n",
              "      <td>Cedarbrae</td>\n",
              "    </tr>\n",
              "  </tbody>\n",
              "</table>\n",
              "</div>"
            ],
            "text/plain": [
              "  Postcode      Borough                         Neighbourhood\n",
              "0      M1B  Scarborough                         Rouge,Malvern\n",
              "1      M1C  Scarborough  Highland Creek,Rouge Hill,Port Union\n",
              "2      M1E  Scarborough       Guildwood,Morningside,West Hill\n",
              "3      M1G  Scarborough                                Woburn\n",
              "4      M1H  Scarborough                             Cedarbrae"
            ]
          },
          "metadata": {
            "tags": []
          },
          "execution_count": 18
        }
      ]
    },
    {
      "cell_type": "code",
      "metadata": {
        "id": "Wiy8G0UYNMjH"
      },
      "source": [
        "df = df[df.Borough != 'Not assigned']"
      ],
      "execution_count": 19,
      "outputs": []
    },
    {
      "cell_type": "code",
      "metadata": {
        "id": "oeigSwcPNRGl"
      },
      "source": [
        "#Rows will be same postalcode will combined into one row with the neighborhoods separated with a comma\n",
        "result = df.groupby(['Postcode','Borough'], sort=False).agg( ', '.join)"
      ],
      "execution_count": 21,
      "outputs": []
    },
    {
      "cell_type": "code",
      "metadata": {
        "colab": {
          "base_uri": "https://localhost:8080/",
          "height": 359
        },
        "id": "2jQGNb7vNXeV",
        "outputId": "d166ac2a-83b7-4fed-b585-528a4c96c97e"
      },
      "source": [
        "#If a cell has a borough but a Not assigned neighborhood, then the neighborhood will be the same as the borough\n",
        "df.loc[df['Neighbourhood'] =='Not assigned' , 'Neighbourhood'] = df['Borough']\n",
        "df.head(10)"
      ],
      "execution_count": 22,
      "outputs": [
        {
          "output_type": "execute_result",
          "data": {
            "text/html": [
              "<div>\n",
              "<style scoped>\n",
              "    .dataframe tbody tr th:only-of-type {\n",
              "        vertical-align: middle;\n",
              "    }\n",
              "\n",
              "    .dataframe tbody tr th {\n",
              "        vertical-align: top;\n",
              "    }\n",
              "\n",
              "    .dataframe thead th {\n",
              "        text-align: right;\n",
              "    }\n",
              "</style>\n",
              "<table border=\"1\" class=\"dataframe\">\n",
              "  <thead>\n",
              "    <tr style=\"text-align: right;\">\n",
              "      <th></th>\n",
              "      <th>Postcode</th>\n",
              "      <th>Borough</th>\n",
              "      <th>Neighbourhood</th>\n",
              "    </tr>\n",
              "  </thead>\n",
              "  <tbody>\n",
              "    <tr>\n",
              "      <th>0</th>\n",
              "      <td>M1B</td>\n",
              "      <td>Scarborough</td>\n",
              "      <td>Rouge,Malvern</td>\n",
              "    </tr>\n",
              "    <tr>\n",
              "      <th>1</th>\n",
              "      <td>M1C</td>\n",
              "      <td>Scarborough</td>\n",
              "      <td>Highland Creek,Rouge Hill,Port Union</td>\n",
              "    </tr>\n",
              "    <tr>\n",
              "      <th>2</th>\n",
              "      <td>M1E</td>\n",
              "      <td>Scarborough</td>\n",
              "      <td>Guildwood,Morningside,West Hill</td>\n",
              "    </tr>\n",
              "    <tr>\n",
              "      <th>3</th>\n",
              "      <td>M1G</td>\n",
              "      <td>Scarborough</td>\n",
              "      <td>Woburn</td>\n",
              "    </tr>\n",
              "    <tr>\n",
              "      <th>4</th>\n",
              "      <td>M1H</td>\n",
              "      <td>Scarborough</td>\n",
              "      <td>Cedarbrae</td>\n",
              "    </tr>\n",
              "    <tr>\n",
              "      <th>5</th>\n",
              "      <td>M1J</td>\n",
              "      <td>Scarborough</td>\n",
              "      <td>Scarborough Village</td>\n",
              "    </tr>\n",
              "    <tr>\n",
              "      <th>6</th>\n",
              "      <td>M1K</td>\n",
              "      <td>Scarborough</td>\n",
              "      <td>East Birchmount Park,Ionview,Kennedy Park</td>\n",
              "    </tr>\n",
              "    <tr>\n",
              "      <th>7</th>\n",
              "      <td>M1L</td>\n",
              "      <td>Scarborough</td>\n",
              "      <td>Clairlea,Golden Mile,Oakridge</td>\n",
              "    </tr>\n",
              "    <tr>\n",
              "      <th>8</th>\n",
              "      <td>M1M</td>\n",
              "      <td>Scarborough</td>\n",
              "      <td>Cliffcrest,Cliffside,Scarborough Village West</td>\n",
              "    </tr>\n",
              "    <tr>\n",
              "      <th>9</th>\n",
              "      <td>M1N</td>\n",
              "      <td>Scarborough</td>\n",
              "      <td>Birch Cliff,Cliffside West</td>\n",
              "    </tr>\n",
              "  </tbody>\n",
              "</table>\n",
              "</div>"
            ],
            "text/plain": [
              "  Postcode      Borough                                  Neighbourhood\n",
              "0      M1B  Scarborough                                  Rouge,Malvern\n",
              "1      M1C  Scarborough           Highland Creek,Rouge Hill,Port Union\n",
              "2      M1E  Scarborough                Guildwood,Morningside,West Hill\n",
              "3      M1G  Scarborough                                         Woburn\n",
              "4      M1H  Scarborough                                      Cedarbrae\n",
              "5      M1J  Scarborough                            Scarborough Village\n",
              "6      M1K  Scarborough      East Birchmount Park,Ionview,Kennedy Park\n",
              "7      M1L  Scarborough                  Clairlea,Golden Mile,Oakridge\n",
              "8      M1M  Scarborough  Cliffcrest,Cliffside,Scarborough Village West\n",
              "9      M1N  Scarborough                     Birch Cliff,Cliffside West"
            ]
          },
          "metadata": {
            "tags": []
          },
          "execution_count": 22
        }
      ]
    },
    {
      "cell_type": "code",
      "metadata": {
        "colab": {
          "base_uri": "https://localhost:8080/"
        },
        "id": "HHBf9Gi2Nbo2",
        "outputId": "80ca9de8-0bb7-4673-a2a0-b095335903e4"
      },
      "source": [
        "df.shape"
      ],
      "execution_count": 23,
      "outputs": [
        {
          "output_type": "execute_result",
          "data": {
            "text/plain": [
              "(103, 3)"
            ]
          },
          "metadata": {
            "tags": []
          },
          "execution_count": 23
        }
      ]
    }
  ]
}